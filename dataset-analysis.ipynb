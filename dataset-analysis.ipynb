{
 "cells": [
  {
   "cell_type": "code",
   "id": "initial_id",
   "metadata": {
    "collapsed": true,
    "ExecuteTime": {
     "end_time": "2024-12-17T14:06:25.127794Z",
     "start_time": "2024-12-17T14:06:25.123777Z"
    }
   },
   "source": [
    "from nltk import word_tokenize\n",
    "from nltk.corpus import gutenberg\n",
    "\n",
    "from src.data.dataset import TextGenerationDataset\n",
    "from src.data.tokenizer import Tokenizer\n",
    "from src.utils import load_config"
   ],
   "outputs": [],
   "execution_count": 43
  },
  {
   "metadata": {
    "ExecuteTime": {
     "end_time": "2024-12-17T14:06:25.145262Z",
     "start_time": "2024-12-17T14:06:25.139762Z"
    }
   },
   "cell_type": "code",
   "source": [
    "config = load_config()\n",
    "config"
   ],
   "id": "17091abb9ba30f6",
   "outputs": [
    {
     "data": {
      "text/plain": [
       "Namespace(data='milton-paradise.txt', test_fraction=0.1, seed=42, window_step=1, context_length=40, output_length=1, batch_size=64, epochs=100, save_interval=10, eval_interval=1, best_score_metric='accuracy', learning_rate=0.0001, weight_decay=1e-05, embedding_dim=128, hidden_dim=256, num_layers=2, dropout=0.25)"
      ]
     },
     "execution_count": 44,
     "metadata": {},
     "output_type": "execute_result"
    }
   ],
   "execution_count": 44
  },
  {
   "metadata": {
    "ExecuteTime": {
     "end_time": "2024-12-17T14:06:25.166259Z",
     "start_time": "2024-12-17T14:06:25.160261Z"
    }
   },
   "cell_type": "code",
   "source": [
    "original_text = gutenberg.raw(config.data)\n",
    "print(original_text[:600])"
   ],
   "id": "9c0adcbd7f9d4903",
   "outputs": [
    {
     "name": "stdout",
     "output_type": "stream",
     "text": [
      "[Paradise Lost by John Milton 1667] \n",
      " \n",
      " \n",
      "Book I \n",
      " \n",
      " \n",
      "Of Man's first disobedience, and the fruit \n",
      "Of that forbidden tree whose mortal taste \n",
      "Brought death into the World, and all our woe, \n",
      "With loss of Eden, till one greater Man \n",
      "Restore us, and regain the blissful seat, \n",
      "Sing, Heavenly Muse, that, on the secret top \n",
      "Of Oreb, or of Sinai, didst inspire \n",
      "That shepherd who first taught the chosen seed \n",
      "In the beginning how the heavens and earth \n",
      "Rose out of Chaos: or, if Sion hill \n",
      "Delight thee more, and Siloa's brook that flowed \n",
      "Fast by the oracle of God, I thence \n",
      "Invoke thy aid to my adventur\n"
     ]
    }
   ],
   "execution_count": 45
  },
  {
   "metadata": {
    "ExecuteTime": {
     "end_time": "2024-12-17T14:06:25.391758Z",
     "start_time": "2024-12-17T14:06:25.177259Z"
    }
   },
   "cell_type": "code",
   "source": [
    "total_characters = len(original_text)\n",
    "unique_characters = len(set(original_text))\n",
    "words = word_tokenize(original_text)\n",
    "unique_words = len(set(words))\n",
    "total_words = len(words)\n",
    "\n",
    "print(f\"Total characters: {total_characters}\")\n",
    "print(f\"Unique characters: {unique_characters}\")\n",
    "print(f\"Total words: {total_words}\")\n",
    "print(f\"Unique words: {unique_words}\")"
   ],
   "id": "6a421b1518a27a06",
   "outputs": [
    {
     "name": "stdout",
     "output_type": "stream",
     "text": [
      "Total characters: 468220\n",
      "Unique characters: 80\n",
      "Total words: 95716\n",
      "Unique words: 10986\n"
     ]
    }
   ],
   "execution_count": 46
  },
  {
   "metadata": {
    "ExecuteTime": {
     "end_time": "2024-12-17T14:06:25.448758Z",
     "start_time": "2024-12-17T14:06:25.409261Z"
    }
   },
   "cell_type": "code",
   "source": [
    "tokenizer = Tokenizer.init_from_text(original_text)\n",
    "print(dict(sorted(tokenizer.vocab.token_freq.items(), key=lambda item: item[1], reverse=True)))"
   ],
   "id": "487ca97b50aa6318",
   "outputs": [
    {
     "name": "stdout",
     "output_type": "stream",
     "text": [
      "{' ': 81196, 'e': 44815, 't': 29572, 'o': 26121, 'a': 24655, 'n': 24539, 'h': 23596, 's': 22899, 'r': 22665, 'i': 22214, 'd': 16773, 'l': 15000, 'u': 10718, '\\n': 10635, ',': 10228, 'm': 8269, 'f': 8030, 'w': 7698, 'c': 7275, 'g': 7231, 'p': 5776, 'y': 5067, 'b': 4683, 'v': 3756, ';': 2326, 'T': 2168, 'k': 1982, 'A': 1729, 'H': 1295, '.': 1283, 'I': 1243, 'O': 1146, 'S': 1137, 'W': 993, ':': 771, 'B': 686, 'F': 666, \"'\": 606, 'M': 600, '-': 594, 'E': 493, 'G': 476, 'x': 452, 'C': 408, 'N': 405, 'j': 399, 'D': 398, 'P': 365, '?': 322, 'L': 272, '!': 267, 'q': 245, 'R': 208, 'z': 177, 'U': 160, 'Y': 99, 'V': 73, 'J': 63, ')': 60, '(': 59, '\"': 57, 'K': 57, '$': 9, '0': 9, 'Z': 8, 'Q': 7, '*': 6, 'X': 5, '1': 4, '2': 4, '[': 2, '6': 2, ']': 2, '8': 2, '4': 2, '9': 2, '\\x1a': 2, '7': 1, '5': 1, '3': 1, '#': 0}\n"
     ]
    }
   ],
   "execution_count": 47
  },
  {
   "metadata": {
    "ExecuteTime": {
     "end_time": "2024-12-17T14:06:25.693244Z",
     "start_time": "2024-12-17T14:06:25.456260Z"
    }
   },
   "cell_type": "code",
   "source": [
    "dataset = TextGenerationDataset(config)\n",
    "print(dataset.text[:600])"
   ],
   "id": "c40d42cdf6c11d6f",
   "outputs": [
    {
     "name": "stdout",
     "output_type": "stream",
     "text": [
      "of man's first disobedience, and the fruit\n",
      "of that forbidden tree whose mortal taste\n",
      "brought death into the world, and all our woe,\n",
      "with loss of eden, till one greater man\n",
      "restore us, and regain the blissful seat,\n",
      "sing, heavenly muse, that, on the secret top\n",
      "of oreb, or of sinai, didst inspire\n",
      "that shepherd who first taught the chosen seed\n",
      "in the beginning how the heavens and earth\n",
      "rose out of chaos: or, if sion hill\n",
      "delight thee more, and siloa's brook that flowed\n",
      "fast by the oracle of god, i thence\n",
      "invoke thy aid to my adventurous song,\n",
      "that with no middle flight intends to soar\n",
      "above th' ao\n"
     ]
    },
    {
     "name": "stderr",
     "output_type": "stream",
     "text": [
      "[nltk_data] Downloading package gutenberg to\n",
      "[nltk_data]     C:\\Users\\robert\\AppData\\Roaming\\nltk_data...\n",
      "[nltk_data]   Package gutenberg is already up-to-date!\n"
     ]
    }
   ],
   "execution_count": 48
  },
  {
   "metadata": {
    "ExecuteTime": {
     "end_time": "2024-12-17T14:06:25.892749Z",
     "start_time": "2024-12-17T14:06:25.700747Z"
    }
   },
   "cell_type": "code",
   "source": [
    "total_characters = len(dataset.text)\n",
    "unique_characters = len(set(dataset.text))\n",
    "words = word_tokenize(dataset.text)\n",
    "unique_words = len(set(words))\n",
    "total_words = len(words)\n",
    "\n",
    "print(f\"Total characters: {total_characters}\")\n",
    "print(f\"Unique characters: {unique_characters}\")\n",
    "print(f\"Total words: {total_words}\")\n",
    "print(f\"Unique words: {unique_words}\")"
   ],
   "id": "47836125f657eae5",
   "outputs": [
    {
     "name": "stdout",
     "output_type": "stream",
     "text": [
      "Total characters: 449068\n",
      "Unique characters: 36\n",
      "Total words: 94080\n",
      "Unique words: 9202\n"
     ]
    }
   ],
   "execution_count": 49
  },
  {
   "metadata": {
    "ExecuteTime": {
     "end_time": "2024-12-17T14:06:25.922244Z",
     "start_time": "2024-12-17T14:06:25.918742Z"
    }
   },
   "cell_type": "code",
   "source": "print(dict(sorted(dataset.tokenizer.vocab.token_freq.items(), key=lambda item: item[1], reverse=True)))",
   "id": "b4fc90473a70f386",
   "outputs": [
    {
     "name": "stdout",
     "output_type": "stream",
     "text": [
      "{' ': 68053, 'e': 44620, 't': 31299, 'o': 26843, 'a': 26002, 'n': 24582, 'h': 24513, 's': 23712, 'i': 23125, 'r': 22515, 'd': 16940, 'l': 15032, 'u': 10720, '\\n': 10402, ',': 10085, 'm': 8740, 'f': 8572, 'w': 8562, 'g': 7594, 'c': 7566, 'p': 6046, 'b': 5286, 'y': 5092, 'v': 3764, ';': 2312, 'k': 2003, '.': 1258, ':': 764, \"'\": 596, '-': 576, 'j': 458, 'x': 444, '?': 305, '!': 256, 'q': 248, 'z': 183, '#': 0}\n"
     ]
    }
   ],
   "execution_count": 50
  },
  {
   "metadata": {
    "ExecuteTime": {
     "end_time": "2024-12-17T14:06:25.946242Z",
     "start_time": "2024-12-17T14:06:25.932744Z"
    }
   },
   "cell_type": "code",
   "source": [
    "train_subset, test_subset = dataset.split(test_fraction=0.1)\n",
    "print(\"Number of sequence pairs in data:\", len(dataset))\n",
    "print(\"Vocabulary size:\", len(dataset.tokenizer.vocab))\n",
    "print(\"Training subset size:\", len(train_subset))\n",
    "print(\"Test subset size:\", len(test_subset))"
   ],
   "id": "b1f8590437c5ddfb",
   "outputs": [
    {
     "name": "stdout",
     "output_type": "stream",
     "text": [
      "Number of sequence pairs in data: 449027\n",
      "Vocabulary size: 37\n",
      "Training subset size: 404125\n",
      "Test subset size: 44902\n"
     ]
    }
   ],
   "execution_count": 51
  },
  {
   "metadata": {
    "ExecuteTime": {
     "end_time": "2024-12-17T14:06:25.961244Z",
     "start_time": "2024-12-17T14:06:25.957747Z"
    }
   },
   "cell_type": "code",
   "source": "print(dataset.text[-1500:])",
   "id": "abc48f5e14999114",
   "outputs": [
    {
     "name": "stdout",
     "output_type": "stream",
     "text": [
      "d i fell asleep: but now lead on;\n",
      "in me is no delay; with thee to go,\n",
      "is to stay here; without thee here to stay,\n",
      "is to go hence unwilling; thou to me\n",
      "who for my wilful crime art banished hence.\n",
      "this further consolation yet secure\n",
      "i carry hence; though all by me is lost,\n",
      "such favour i unworthy am vouchsafed,\n",
      "by me the promised seed shall all restore.\n",
      "so spake our mother eve; and adam heard\n",
      "well pleased, but answered not: for now, too nigh\n",
      "the arch-angel stood; and, from the other hill\n",
      "to their fixed station, all in bright array\n",
      "the cherubim descended; on the ground\n",
      "gliding meteorous, as evening-mist\n",
      "risen from a river o'er the marish glides,\n",
      "and gathers ground fast at the labourer's heel\n",
      "homeward returning. high in front advanced,\n",
      "the brandished sword of god before them blazed,\n",
      "fierce as a comet; which with torrid heat,\n",
      "and vapour as the libyan air adust,\n",
      "began to parch that temperate clime; whereat\n",
      "in either hand the hastening angel caught\n",
      "our lingering parents, and to the eastern gate\n",
      "led them direct, and down the cliff as fast\n",
      "to the subjected plain; then disappeared.\n",
      "they, looking back, all the eastern side beheld\n",
      "of paradise, so late their happy seat,\n",
      "waved over by that flaming brand; the gate\n",
      "with dreadful faces thronged, and fiery arms:\n",
      "some natural tears they dropt, but wiped them soon;\n",
      "the world was all before them, where to choose\n",
      "their place of rest, and providence their guide:\n",
      "they, hand in hand, with wandering steps and slow,\n",
      "through eden took their solitary way.\n"
     ]
    }
   ],
   "execution_count": 52
  }
 ],
 "metadata": {
  "kernelspec": {
   "display_name": "Python 3",
   "language": "python",
   "name": "python3"
  },
  "language_info": {
   "codemirror_mode": {
    "name": "ipython",
    "version": 2
   },
   "file_extension": ".py",
   "mimetype": "text/x-python",
   "name": "python",
   "nbconvert_exporter": "python",
   "pygments_lexer": "ipython2",
   "version": "2.7.6"
  }
 },
 "nbformat": 4,
 "nbformat_minor": 5
}
